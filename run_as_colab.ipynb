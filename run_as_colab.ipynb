{
 "cells": [
  {
   "cell_type": "markdown",
   "metadata": {},
   "source": [
    "# For users who don't have a GPU!"
   ]
  },
  {
   "cell_type": "code",
   "execution_count": null,
   "metadata": {},
   "outputs": [],
   "source": [
    "# Set up the environment.\n",
    "!git clone https://github.com/tmp8ings/manga-image-translator.git\n",
    "%cd manga-image-translator/\n",
    "!python -m pip install -r requirements.txt"
   ]
  },
  {
   "cell_type": "code",
   "execution_count": null,
   "metadata": {},
   "outputs": [],
   "source": [
    "import os\n",
    "\n",
    "# 여러 환경변수 설정\n",
    "os.environ.update({\n",
    "    'GOOGLE_API_KEY': '키 입력',\n",
    "})\n",
    "\n",
    "# print(os.environ['GOOGLE_API_KEY'])\n",
    "# del os.environ['GOOGLE_API_KEY']\n"
   ]
  },
  {
   "cell_type": "code",
   "execution_count": null,
   "metadata": {},
   "outputs": [],
   "source": [
    "# Run with colab. GPU must be selected at runtime!\n",
    "from google.colab.output import eval_js\n",
    "url = eval_js(\"google.colab.kernel.proxyPort(5003)\")\n",
    "print('Open the link to use manga-image-translator! -> ', url)\n",
    "!python -m manga_translator --verbose --mode web --use-gpu"
   ]
  }
 ],
 "metadata": {
  "language_info": {
   "name": "python"
  },
  "orig_nbformat": 4
 },
 "nbformat": 4,
 "nbformat_minor": 2
}
